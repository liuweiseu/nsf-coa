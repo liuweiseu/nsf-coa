{
 "cells": [
  {
   "cell_type": "code",
   "execution_count": 22,
   "metadata": {},
   "outputs": [],
   "source": [
    "import ads\n",
    "\n",
    "# papers = list(ads.SearchQuery(author=\"Gluscevic, V\"))\n",
    "\n",
    "# all_authors = set([(a, aff) for p in papers for (a, aff) in zip(p.author, p.aff)])"
   ]
  },
  {
   "cell_type": "code",
   "execution_count": 23,
   "metadata": {},
   "outputs": [],
   "source": [
    "# For this, go to ui.adsabs.harvard.edu, select papers, and export as AASTex\n",
    "\n",
    "s = \"\"\"\n",
    "\\bibitem[Korzoun et al.(2023)]{2023arXiv230809607K} Korzoun, N., Benbow, W., Brown, A., et al.\\ 2023, arXiv:2308.09607. doi:10.48550/arXiv.2308.09607\n",
    "\\bibitem[Maire et al.(2022)]{2022SPIE12184E..8BM} Maire, J., Wright, S.~A., Holder, J., et al.\\ 2022, \\procspie, 12184, 121848B. doi:10.1117/12.2630772\n",
    "\\bibitem[Brown et al.(2021)]{2021arXiv211112771B} Brown, A.~M., Aronson, M.~L., Wright, S.~A., et al.\\ 2021, arXiv:2111.12771. doi:10.48550/arXiv.2111.12771\n",
    "\\bibitem[Maire et al.(2020)]{2020SPIE11454E..3CM} Maire, J., Wright, S.~A., Werthimer, D., et al.\\ 2020, \\procspie, 11454, 114543C. doi:10.1117/12.2562786\n",
    "\\bibitem[Liu et al.(2020)]{2020SPIE11447E..7GL} Liu, W., Werthimer, D., Lee, R., et al.\\ 2020, \\procspie, 11447, 114477G. doi:10.1117/12.2561203\n",
    "\\bibitem[Brown et al.(2020)]{2020SPIE11445E..8BB} Brown, A.~M., Aronson, M.~L., Wright, S.~A., et al.\\ 2020, \\procspie, 11445, 114458B. doi:10.1117/12.2562985\n",
    "\\bibitem[Wright et al.(2019)]{2019BAAS...51g.264W} Wright, S., Antonio, F.~P., Aronson, M.~L., et al.\\ 2019, \\baas\n",
    "\\bibitem[Maire et al.(2018)]{2018SPIE10702E..5LM} Maire, J., Wright, S.~A., Cosens, M., et al.\\ 2018, \\procspie, 10702, 107025L. doi:10.1117/12.2314444\n",
    "\\bibitem[Wright et al.(2018)]{2018SPIE10702E..5IW} Wright, S.~A., Horowitz, P., Maire, J., et al.\\ 2018, \\procspie, 10702, 107025I. doi:10.1117/12.2314268\n",
    "\\bibitem[Cosens et al.(2018)]{2018SPIE10702E..5HC} Cosens, M., Maire, J., Wright, S.~A., et al.\\ 2018, \\procspie, 10702, 107025H. doi:10.1117/12.2314252\n",
    "\"\"\""
   ]
  },
  {
   "cell_type": "code",
   "execution_count": 24,
   "metadata": {},
   "outputs": [],
   "source": [
    "ads.config.token = 'QjJb6hehcaXMTTxyeJHKpZRvZR8N9K52vU6ShNB8'"
   ]
  },
  {
   "cell_type": "code",
   "execution_count": 25,
   "metadata": {},
   "outputs": [
    {
     "name": "stdout",
     "output_type": "stream",
     "text": [
      "['2023arXiv230809607K', '2022SPIE12184E..8BM', '2021arXiv211112771B', '2020SPIE11454E..3CM', '2020SPIE11447E..7GL', '2020SPIE11445E..8BB', '2019BAAS...51g.264W', '2018SPIE10702E..5LM', '2018SPIE10702E..5IW', '2018SPIE10702E..5HC']\n"
     ]
    },
    {
     "data": {
      "text/plain": [
       "46"
      ]
     },
     "execution_count": 25,
     "metadata": {},
     "output_type": "execute_result"
    }
   ],
   "source": [
    "import re\n",
    "bibcodes = re.findall('\\{(2\\S+)\\}', s)\n",
    "print(bibcodes)\n",
    "papers = [list(ads.SearchQuery(bibcode=bibcode))[0] for bibcode in bibcodes]\n",
    "\n",
    "all_authors = list(set([a for p in papers for a in p.author]))\n",
    "all_authors.sort()\n",
    "\n",
    "len(all_authors)"
   ]
  },
  {
   "cell_type": "code",
   "execution_count": 39,
   "metadata": {},
   "outputs": [
    {
     "data": {
      "text/plain": [
       "46"
      ]
     },
     "execution_count": 39,
     "metadata": {},
     "output_type": "execute_result"
    }
   ],
   "source": [
    "from nameparser import HumanName\n",
    "all_names = [HumanName(a) for a in all_authors] \n",
    "len(all_names)"
   ]
  },
  {
   "cell_type": "code",
   "execution_count": 27,
   "metadata": {},
   "outputs": [],
   "source": [
    "def choose_best(names):\n",
    "    lengths = [len(n.original) for n in names]\n",
    "    longest = 0\n",
    "    best = None\n",
    "    for n, l in zip(names, lengths):\n",
    "        if l > longest:\n",
    "            best = n\n",
    "    print(f'out of {[name.original for name in names]}, choose {n.original}')\n",
    "    return n\n",
    "\n",
    "def almost_equal(name1, name2):\n",
    "    return name1.last.lower() == name2.last.lower() and name1.first[0].lower() == name2.first[0].lower()"
   ]
  },
  {
   "cell_type": "code",
   "execution_count": 28,
   "metadata": {},
   "outputs": [
    {
     "name": "stdout",
     "output_type": "stream",
     "text": [
      "Franklin P. Antonio, Franklin Antonio being compared\n",
      "Michael L Aronson, Michael Aronson being compared\n",
      "Michael L. Aronson, Michael L Aronson being compared\n",
      "out of ['Aronson, Michael L', 'Aronson, Michael L.'], choose Aronson, Michael L.\n",
      "Wystan Benbow, Wynstan Benbow being compared\n",
      "Aaron M. Brown, Aaron Brown being compared\n",
      "Samuel A. Chaim-Weismann, Sam Chaim-Weismann being compared\n",
      "Frank D. Drake, Frank Drake being compared\n",
      "Andrew W. Howard, Andrew Howard being compared\n",
      "Jérôme Maire, Jerome Maire being compared\n",
      "Remington P. S. Stone, Remington Stone being compared\n",
      "Richard R. Treffers, Richard Treffers being compared\n",
      "James H. Wiley, James Wiley being compared\n",
      "Shelley A. Wright, Shelley Wright being compared\n"
     ]
    }
   ],
   "source": [
    "no_dups = []\n",
    "previous = HumanName('Hello Dotty')\n",
    "to_compare = []\n",
    "for name in all_names:\n",
    "    if almost_equal(name, previous):\n",
    "        print(f'{name}, {previous} being compared')\n",
    "        to_compare.append(name)\n",
    "    else:\n",
    "        if len(to_compare) > 1:\n",
    "            no_dups.append(choose_best(to_compare))\n",
    "            to_compare = []\n",
    "        else:\n",
    "            no_dups.append(name)\n",
    "            to_compare = []\n",
    "    previous = name\n"
   ]
  },
  {
   "cell_type": "code",
   "execution_count": 35,
   "metadata": {},
   "outputs": [
    {
     "data": {
      "text/plain": [
       "33"
      ]
     },
     "execution_count": 35,
     "metadata": {},
     "output_type": "execute_result"
    }
   ],
   "source": [
    "len(no_dups)"
   ]
  },
  {
   "cell_type": "code",
   "execution_count": 36,
   "metadata": {},
   "outputs": [],
   "source": [
    "filename = 'coa_nadler.txt'\n",
    "with open(filename, 'w') as fout:\n",
    "    for name in no_dups:\n",
    "        fout.write('{}; '.format(name.original))"
   ]
  },
  {
   "cell_type": "code",
   "execution_count": 44,
   "metadata": {},
   "outputs": [],
   "source": [
    "filename = 'coa.csv'\n",
    "with open(filename, 'w') as fout:\n",
    "    for auth in no_dups:\n",
    "        fout.write('{}'.format(str(auth)))"
   ]
  },
  {
   "cell_type": "code",
   "execution_count": 45,
   "metadata": {},
   "outputs": [],
   "source": [
    "import csv"
   ]
  },
  {
   "cell_type": "code",
   "execution_count": 50,
   "metadata": {},
   "outputs": [
    {
     "ename": "AttributeError",
     "evalue": "'_csv.writer' object has no attribute 'writeheader'",
     "output_type": "error",
     "traceback": [
      "\u001b[0;31m---------------------------------------------------------------------------\u001b[0m",
      "\u001b[0;31mAttributeError\u001b[0m                            Traceback (most recent call last)",
      "\u001b[0;32m<ipython-input-50-1f2f49810ed3>\u001b[0m in \u001b[0;36m<module>\u001b[0;34m\u001b[0m\n\u001b[1;32m      1\u001b[0m \u001b[0mf\u001b[0m\u001b[0;34m=\u001b[0m\u001b[0mopen\u001b[0m\u001b[0;34m(\u001b[0m\u001b[0;34m'coa.csv'\u001b[0m\u001b[0;34m,\u001b[0m\u001b[0;34m'w'\u001b[0m\u001b[0;34m)\u001b[0m\u001b[0;34m\u001b[0m\u001b[0;34m\u001b[0m\u001b[0m\n\u001b[1;32m      2\u001b[0m \u001b[0mwriter\u001b[0m \u001b[0;34m=\u001b[0m \u001b[0mcsv\u001b[0m\u001b[0;34m.\u001b[0m\u001b[0mwriter\u001b[0m\u001b[0;34m(\u001b[0m\u001b[0mf\u001b[0m\u001b[0;34m)\u001b[0m\u001b[0;34m\u001b[0m\u001b[0;34m\u001b[0m\u001b[0m\n\u001b[0;32m----> 3\u001b[0;31m \u001b[0mwriter\u001b[0m\u001b[0;34m.\u001b[0m\u001b[0mwriteheader\u001b[0m\u001b[0;34m(\u001b[0m\u001b[0;34m[\u001b[0m\u001b[0;34m'Name'\u001b[0m\u001b[0;34m]\u001b[0m\u001b[0;34m)\u001b[0m\u001b[0;34m\u001b[0m\u001b[0;34m\u001b[0m\u001b[0m\n\u001b[0m\u001b[1;32m      4\u001b[0m \u001b[0;32mfor\u001b[0m \u001b[0mauth\u001b[0m \u001b[0;32min\u001b[0m \u001b[0mno_dups\u001b[0m\u001b[0;34m:\u001b[0m\u001b[0;34m\u001b[0m\u001b[0;34m\u001b[0m\u001b[0m\n\u001b[1;32m      5\u001b[0m     \u001b[0mwriter\u001b[0m\u001b[0;34m.\u001b[0m\u001b[0mwriterow\u001b[0m\u001b[0;34m(\u001b[0m\u001b[0;34m[\u001b[0m\u001b[0mauth\u001b[0m\u001b[0;34m]\u001b[0m\u001b[0;34m)\u001b[0m\u001b[0;34m\u001b[0m\u001b[0;34m\u001b[0m\u001b[0m\n",
      "\u001b[0;31mAttributeError\u001b[0m: '_csv.writer' object has no attribute 'writeheader'"
     ]
    }
   ],
   "source": [
    "f=open('coa.csv','w')\n",
    "writer = csv.writer(f)\n",
    "writer.writerow(['Name'])\n",
    "for auth in no_dups:\n",
    "    writer.writerow([auth])\n",
    "f.close()\n"
   ]
  },
  {
   "cell_type": "code",
   "execution_count": null,
   "metadata": {},
   "outputs": [],
   "source": []
  }
 ],
 "metadata": {
  "kernelspec": {
   "display_name": "py36",
   "language": "python",
   "name": "py36"
  },
  "language_info": {
   "codemirror_mode": {
    "name": "ipython",
    "version": 3
   },
   "file_extension": ".py",
   "mimetype": "text/x-python",
   "name": "python",
   "nbconvert_exporter": "python",
   "pygments_lexer": "ipython3",
   "version": "3.6.13"
  }
 },
 "nbformat": 4,
 "nbformat_minor": 4
}

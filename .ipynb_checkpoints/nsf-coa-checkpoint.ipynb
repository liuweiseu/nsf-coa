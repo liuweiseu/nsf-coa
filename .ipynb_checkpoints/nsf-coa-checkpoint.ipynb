{
 "cells": [
  {
   "cell_type": "code",
   "execution_count": 19,
   "id": "83220c31-36a7-4ea0-aad2-80c65878be8b",
   "metadata": {},
   "outputs": [],
   "source": [
    "import ads, re, csv\n",
    "from nameparser import HumanName"
   ]
  },
  {
   "cell_type": "code",
   "execution_count": 2,
   "id": "edfc539f-d135-4825-a3a9-54c8378c8507",
   "metadata": {},
   "outputs": [],
   "source": [
    "def choose_best(names):\n",
    "    lengths = [len(n.original) for n in names]\n",
    "    longest = 0\n",
    "    best = None\n",
    "    for n, l in zip(names, lengths):\n",
    "        if l > longest:\n",
    "            best = n\n",
    "    print(f'out of {[name.original for name in names]}, choose {n.original}')\n",
    "    return n\n",
    "\n",
    "def almost_equal(name1, name2):\n",
    "    return name1.last.lower() == name2.last.lower() and name1.first[0].lower() == name2.first[0].lower()"
   ]
  },
  {
   "cell_type": "code",
   "execution_count": 3,
   "id": "fab76bf3-bb39-4809-9e5e-e1a7f9db7650",
   "metadata": {},
   "outputs": [],
   "source": [
    "ads.config.token = 'QjJb6hehcaXMTTxyeJHKpZRvZR8N9K52vU6ShNB8'"
   ]
  },
  {
   "cell_type": "code",
   "execution_count": 4,
   "id": "0e5aea31-9198-4951-90ba-b77aae57cbe5",
   "metadata": {},
   "outputs": [],
   "source": [
    "# For this, go to ui.adsabs.harvard.edu, select papers, and export as AASTex\n",
    "\n",
    "s = \"\"\"\n",
    "\\bibitem[Korzoun et al.(2023)]{2023arXiv230809607K} Korzoun, N., Benbow, W., Brown, A., et al.\\ 2023, arXiv:2308.09607. doi:10.48550/arXiv.2308.09607\n",
    "\\bibitem[Maire et al.(2022)]{2022SPIE12184E..8BM} Maire, J., Wright, S.~A., Holder, J., et al.\\ 2022, \\procspie, 12184, 121848B. doi:10.1117/12.2630772\n",
    "\\bibitem[Brown et al.(2021)]{2021arXiv211112771B} Brown, A.~M., Aronson, M.~L., Wright, S.~A., et al.\\ 2021, arXiv:2111.12771. doi:10.48550/arXiv.2111.12771\n",
    "\\bibitem[Maire et al.(2020)]{2020SPIE11454E..3CM} Maire, J., Wright, S.~A., Werthimer, D., et al.\\ 2020, \\procspie, 11454, 114543C. doi:10.1117/12.2562786\n",
    "\\bibitem[Liu et al.(2020)]{2020SPIE11447E..7GL} Liu, W., Werthimer, D., Lee, R., et al.\\ 2020, \\procspie, 11447, 114477G. doi:10.1117/12.2561203\n",
    "\\bibitem[Brown et al.(2020)]{2020SPIE11445E..8BB} Brown, A.~M., Aronson, M.~L., Wright, S.~A., et al.\\ 2020, \\procspie, 11445, 114458B. doi:10.1117/12.2562985\n",
    "\\bibitem[Wright et al.(2019)]{2019BAAS...51g.264W} Wright, S., Antonio, F.~P., Aronson, M.~L., et al.\\ 2019, \\baas\n",
    "\\bibitem[Maire et al.(2018)]{2018SPIE10702E..5LM} Maire, J., Wright, S.~A., Cosens, M., et al.\\ 2018, \\procspie, 10702, 107025L. doi:10.1117/12.2314444\n",
    "\\bibitem[Wright et al.(2018)]{2018SPIE10702E..5IW} Wright, S.~A., Horowitz, P., Maire, J., et al.\\ 2018, \\procspie, 10702, 107025I. doi:10.1117/12.2314268\n",
    "\\bibitem[Cosens et al.(2018)]{2018SPIE10702E..5HC} Cosens, M., Maire, J., Wright, S.~A., et al.\\ 2018, \\procspie, 10702, 107025H. doi:10.1117/12.2314252\n",
    "\"\"\""
   ]
  },
  {
   "cell_type": "code",
   "execution_count": 5,
   "id": "09f8b6ce-20a4-4994-a144-4e4c1a48535e",
   "metadata": {},
   "outputs": [
    {
     "name": "stderr",
     "output_type": "stream",
     "text": [
      "/home/wei/.conda/envs/py39/lib/python3.9/site-packages/ads/utils.py:33: UserWarning: You are lazy loading attributes via 'aff', and so are making multiple calls to the API. This will impact your overall rate limits.\n",
      "  warnings.warn(\n"
     ]
    },
    {
     "name": "stdout",
     "output_type": "stream",
     "text": [
      "{'Korzoun, Nikolas': '-', 'Benbow, Wystan': '-', 'Brown, Aaron': 'Univ. of California, San Diego (United States)', 'Foote, Gregory': 'Univ. of Delaware (United States)', 'Hanlon, William F.': 'Harvard-Smithsonian Ctr. for Astrophysics (United States)', 'Hervet, Olivier': 'Univ. of California (United States)', 'Hoang, John': '-', 'Holder, Jamie': 'Univ. of Delaware (United States)', 'Horowitz, Paul': 'Harvard Univ. (United States)', 'Liu, Wei': 'UC Berkeley', 'Maire, Jérôme': 'Univ. of California, San Diego (United States)', 'Rault-Wang, Nicolas': 'Space Sciences Lab. (United States)', 'Werthimer, Dan': 'Univ. of California, Berkeley (United States)', 'Wiley, James': 'University of California San Diego', 'Williams, David A.': 'Univ. of California (United States)', 'Wright, Shelley A.': 'Univ. of California, San Diego (United States)', 'Anderson, David': 'Univ. of California, Berkeley (United States)', 'Benbow, Wynstan': 'Harvard &amp; Smithsonian (United States)', 'Cosens, Maren': 'Univ. of California, San Diego (United States)', 'Howard, Andrew W.': 'California Institute of Technology (United States)', 'Lee, Ryan': 'Univ. of California, Berkeley (United States)', 'Raffanti, Rick': 'Techne Instruments (United States)', 'Stone, Remington P. S.': 'Univ. of California Observatories, Lick Observatory (United States)', 'Brown, Aaron M.': 'Univ. of California, San Diego (United States)', 'Aronson, Michael L': '-', 'Wiley, James H.': 'Univ. of California, San Diego (United States)', 'Antonio, Franklin': 'Qualcomm Inc. (United States)', 'Antonio, Franklin P.': 'Qualcomm (United States)', 'Heffner, Carolyn M.': 'California Institute of Technology (United States)', 'Treffers, Richard R.': 'Starman Systems, LLC (United States)', 'Aronson, Michael': 'Electronics Packaging Man (United States)', 'Drake, Frank': 'SETI Institute (United States)', 'Howard, Andrew': 'California Institute of Technology (United States)', 'Maire, Jerome': 'University of California San Diego', 'Stone, Remington': 'Univ. of California Observatories, Lick Observatory (United States)', 'Treffers, Richard': 'Starman Systems (United States)', 'Aronson, Michael L.': 'Electronics Packaging Man (United States)', 'Wei, Liu': 'Univ. of California, Berkeley (United States)', 'Wright, Shelley': 'UC San Diego', 'Chaim-Weismann, Samuel A.': 'Univ. of California, Berkeley (United States)', 'Drake, Frank D.': 'SETI Institute (United States)', 'Siemion, Andrew P. V.': 'Univ. of California, Berkeley (United States)', 'Shippee, Guillaume D.': 'University of California San Diego', 'Uttamchandani, Avinash': 'Nonholonomy, LLC (United States)', 'Marcy, Geoffrey W.': 'Univ. of California, Berkeley (United States)', 'Chaim-Weismann, Sam': 'Univ. of California, Berkeley (United States)'}\n"
     ]
    }
   ],
   "source": [
    "bibcodes = re.findall('\\{(2\\S+)\\}', s)\n",
    "\n",
    "papers = [list(ads.SearchQuery(bibcode=bibcode))[0] for bibcode in bibcodes]\n",
    "\n",
    "authors_aff = {}\n",
    "\n",
    "for paper in papers:\n",
    "    authors = paper.author\n",
    "    affs = paper.aff\n",
    "    for i in range(len(authors)):\n",
    "        authors_aff[authors[i]]=affs[i]"
   ]
  },
  {
   "cell_type": "code",
   "execution_count": 14,
   "id": "7d6bd8b8-a06f-4aff-8181-1fee89c402b5",
   "metadata": {},
   "outputs": [
    {
     "name": "stdout",
     "output_type": "stream",
     "text": [
      "{'Anderson, David': 'Univ. of California, Berkeley (United States)', 'Antonio, Franklin': 'Qualcomm Inc. (United States)', 'Antonio, Franklin P.': 'Qualcomm (United States)', 'Aronson, Michael': 'Electronics Packaging Man (United States)', 'Aronson, Michael L': '-', 'Aronson, Michael L.': 'Electronics Packaging Man (United States)', 'Benbow, Wynstan': 'Harvard &amp; Smithsonian (United States)', 'Benbow, Wystan': '-', 'Brown, Aaron': 'Univ. of California, San Diego (United States)', 'Brown, Aaron M.': 'Univ. of California, San Diego (United States)', 'Chaim-Weismann, Sam': 'Univ. of California, Berkeley (United States)', 'Chaim-Weismann, Samuel A.': 'Univ. of California, Berkeley (United States)', 'Cosens, Maren': 'Univ. of California, San Diego (United States)', 'Drake, Frank': 'SETI Institute (United States)', 'Drake, Frank D.': 'SETI Institute (United States)', 'Foote, Gregory': 'Univ. of Delaware (United States)', 'Hanlon, William F.': 'Harvard-Smithsonian Ctr. for Astrophysics (United States)', 'Heffner, Carolyn M.': 'California Institute of Technology (United States)', 'Hervet, Olivier': 'Univ. of California (United States)', 'Hoang, John': '-', 'Holder, Jamie': 'Univ. of Delaware (United States)', 'Horowitz, Paul': 'Harvard Univ. (United States)', 'Howard, Andrew': 'California Institute of Technology (United States)', 'Howard, Andrew W.': 'California Institute of Technology (United States)', 'Korzoun, Nikolas': '-', 'Lee, Ryan': 'Univ. of California, Berkeley (United States)', 'Liu, Wei': 'UC Berkeley', 'Maire, Jerome': 'University of California San Diego', 'Maire, Jérôme': 'Univ. of California, San Diego (United States)', 'Marcy, Geoffrey W.': 'Univ. of California, Berkeley (United States)', 'Raffanti, Rick': 'Techne Instruments (United States)', 'Rault-Wang, Nicolas': 'Space Sciences Lab. (United States)', 'Shippee, Guillaume D.': 'University of California San Diego', 'Siemion, Andrew P. V.': 'Univ. of California, Berkeley (United States)', 'Stone, Remington': 'Univ. of California Observatories, Lick Observatory (United States)', 'Stone, Remington P. S.': 'Univ. of California Observatories, Lick Observatory (United States)', 'Treffers, Richard': 'Starman Systems (United States)', 'Treffers, Richard R.': 'Starman Systems, LLC (United States)', 'Uttamchandani, Avinash': 'Nonholonomy, LLC (United States)', 'Wei, Liu': 'Univ. of California, Berkeley (United States)', 'Werthimer, Dan': 'Univ. of California, Berkeley (United States)', 'Wiley, James': 'University of California San Diego', 'Wiley, James H.': 'Univ. of California, San Diego (United States)', 'Williams, David A.': 'Univ. of California (United States)', 'Wright, Shelley': 'UC San Diego', 'Wright, Shelley A.': 'Univ. of California, San Diego (United States)'}\n"
     ]
    }
   ],
   "source": [
    "authors_aff = dict(sorted(authors_aff.items()))\n",
    "print(authors_aff)"
   ]
  },
  {
   "cell_type": "code",
   "execution_count": 16,
   "id": "e100d599-e590-4e7f-9af7-3ae97d500afb",
   "metadata": {},
   "outputs": [
    {
     "name": "stdout",
     "output_type": "stream",
     "text": [
      "Franklin P. Antonio, Franklin Antonio being compared\n",
      "Michael L Aronson, Michael Aronson being compared\n",
      "Michael L. Aronson, Michael L Aronson being compared\n",
      "out of ['Aronson, Michael L', 'Aronson, Michael L.'], choose Aronson, Michael L.\n",
      "Wystan Benbow, Wynstan Benbow being compared\n",
      "Aaron M. Brown, Aaron Brown being compared\n",
      "Samuel A. Chaim-Weismann, Sam Chaim-Weismann being compared\n",
      "Frank D. Drake, Frank Drake being compared\n",
      "Andrew W. Howard, Andrew Howard being compared\n",
      "Jérôme Maire, Jerome Maire being compared\n",
      "Remington P. S. Stone, Remington Stone being compared\n",
      "Richard R. Treffers, Richard Treffers being compared\n",
      "James H. Wiley, James Wiley being compared\n",
      "Shelley A. Wright, Shelley Wright being compared\n"
     ]
    }
   ],
   "source": [
    "no_dups = {}\n",
    "previous = HumanName('Hello Dotty')\n",
    "to_compare = []\n",
    "for author in authors_aff.keys():\n",
    "    name = HumanName(author)\n",
    "    if almost_equal(name, previous):\n",
    "        print(f'{name}, {previous} being compared')\n",
    "        to_compare.append(name)\n",
    "    else:\n",
    "        if len(to_compare) > 1:\n",
    "            no_dups[choose_best(to_compare)]=authors_aff[author]\n",
    "            to_compare = []\n",
    "        else:\n",
    "            no_dups[name]=authors_aff[author]\n",
    "            to_compare = []\n",
    "    previous = name"
   ]
  },
  {
   "cell_type": "code",
   "execution_count": 24,
   "id": "27f99f5a-466c-433d-b2fb-b3ae6194e7ca",
   "metadata": {},
   "outputs": [],
   "source": [
    "f=open('coa.csv','w')\n",
    "writer = csv.writer(f)\n",
    "writer.writerow(['4', 'Name:', 'Organizational Affiliation', 'Optional  (email, Department)', 'Last Active'])\n",
    "for auth in no_dups.keys():\n",
    "    writer.writerow(['A', auth, no_dups[auth],' ',' '])\n",
    "f.close()"
   ]
  },
  {
   "cell_type": "code",
   "execution_count": null,
   "id": "a0e2508b-3c38-4918-b8b4-b6864b2ef43b",
   "metadata": {},
   "outputs": [],
   "source": []
  }
 ],
 "metadata": {
  "kernelspec": {
   "display_name": "py39",
   "language": "python",
   "name": "py39"
  },
  "language_info": {
   "codemirror_mode": {
    "name": "ipython",
    "version": 3
   },
   "file_extension": ".py",
   "mimetype": "text/x-python",
   "name": "python",
   "nbconvert_exporter": "python",
   "pygments_lexer": "ipython3",
   "version": "3.9.16"
  }
 },
 "nbformat": 4,
 "nbformat_minor": 5
}

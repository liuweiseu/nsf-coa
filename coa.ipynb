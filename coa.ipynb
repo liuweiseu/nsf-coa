{
 "cells": [
  {
   "cell_type": "code",
   "execution_count": 1,
   "metadata": {},
   "outputs": [],
   "source": [
    "import ads\n",
    "\n",
    "# papers = list(ads.SearchQuery(author=\"Gluscevic, V\"))\n",
    "\n",
    "# all_authors = set([(a, aff) for p in papers for (a, aff) in zip(p.author, p.aff)])"
   ]
  },
  {
   "cell_type": "code",
   "execution_count": 20,
   "metadata": {},
   "outputs": [],
   "source": [
    "# For this, go to ui.adsabs.harvard.edu, select papers, and export as AASTex\n",
    "\n",
    "s = \"\"\"\n",
    "\\bibitem[Nadler et al.(2021)]{2021ApJ...920L..11N} Nadler, E.~O., Banerjee, A., Adhikari, S., et al.\\ 2021, \\apjl, 920, L11. doi:10.3847/2041-8213/ac29c1\n",
    "\\bibitem[Drlica-Wagner et al.(2021)]{2021yCat..18930047D} Drlica-Wagner, A., Bechtol, K., Mau, S., et al.\\ 2021, VizieR Online Data Catalog, J/ApJ/893/47\n",
    "\\bibitem[Drlica-Wagner et al.(2021)]{2021ApJS..256....2D} Drlica-Wagner, A., Carlin, J.~L., Nidever, D.~L., et al.\\ 2021, \\apjs, 256, 2. doi:10.3847/1538-4365/ac079d\n",
    "\\bibitem[Nadler et al.(2021)]{2021ApJ...917....7N} Nadler, E.~O., Birrer, S., Gilman, D., et al.\\ 2021, \\apj, 917, 7. doi:10.3847/1538-4357/abf9a3\n",
    "\\bibitem[Nguyen et al.(2021)]{2021arXiv210712380N} Nguyen, D., Sarnaaik, D., Boddy, K.~K., et al.\\ 2021, arXiv:2107.12380\n",
    "\\bibitem[Wang et al.(2021)]{2021ApJ...915..116W} Wang, Y., Nadler, E.~O., Mao, Y.-Y., et al.\\ 2021, \\apj, 915, 116. doi:10.3847/1538-4357/ac024a\n",
    "\\bibitem[Darragh-Ford et al.(2021)]{2021ApJ...915...48D} Darragh-Ford, E., Nadler, E.~O., McLaughlin, S., et al.\\ 2021, \\apj, 915, 48. doi:10.3847/1538-4357/ac0053\n",
    "\\bibitem[Bhattacharyya et al.(2021)]{2021arXiv210608292B} Bhattacharyya, S., Adhikari, S., Banerjee, A., et al.\\ 2021, arXiv:2106.08292\n",
    "\\bibitem[Nadler et al.(2021)]{2021PhRvL.126i1101N} Nadler, E.~O., Drlica-Wagner, A., Bechtol, K., et al.\\ 2021, \\prl, 126, 091101. doi:10.1103/PhysRevLett.126.091101\n",
    "\\bibitem[Das \\& Nadler(2021)]{2021PhRvD.103d3517D} Das, S. \\& Nadler, E.~O.\\ 2021, \\prd, 103, 043517. doi:10.1103/PhysRevD.103.043517\n",
    "\\bibitem[Maamari et al.(2021)]{2021ApJ...907L..46M} Maamari, K., Gluscevic, V., Boddy, K.~K., et al.\\ 2021, \\apjl, 907, L46. doi:10.3847/2041-8213/abd807\n",
    "\\bibitem[Mao et al.(2021)]{2021ApJ...907...85M} Mao, Y.-Y., Geha, M., Wechsler, R.~H., et al.\\ 2021, \\apj, 907, 85. doi:10.3847/1538-4357/abce58\n",
    "\\bibitem[Srinivasa Desikan et al.(2020)]{2020arXiv201004292S} Srinivasa Desikan, B., Hull, T., Nadler, E.~O., et al.\\ 2020, arXiv:2010.04292\n",
    "\\bibitem[Nadler et al.(2020)]{2020ApJ...897L..46N} Nadler, E.~O., Gluscevic, V., Boddy, K.~K., et al.\\ 2020, \\apjl, 897, L46. doi:10.3847/2041-8213/ab9e69\n",
    "\\bibitem[Nadler et al.(2020)]{2020ApJ...896..112N} Nadler, E.~O., Banerjee, A., Adhikari, S., et al.\\ 2020, \\apj, 896, 112. doi:10.3847/1538-4357/ab94b0\n",
    "\\bibitem[Maamari et al.(2020)]{2020AAS...23624405M} Maamari, K., Glusevic, V., Boddy, K., et al.\\ 2020, \\aas\n",
    "\\bibitem[Nadler et al.(2020)]{2020ApJ...893...48N} Nadler, E.~O., Wechsler, R.~H., Bechtol, K., et al.\\ 2020, \\apj, 893, 48. doi:10.3847/1538-4357/ab846a\n",
    "\\bibitem[Drlica-Wagner et al.(2020)]{2020ApJ...893...47D} Drlica-Wagner, A., Bechtol, K., Mau, S., et al.\\ 2020, \\apj, 893, 47. doi:10.3847/1538-4357/ab7eb9\n",
    "\\bibitem[Mau et al.(2020)]{2020ApJ...890..136M} Mau, S., Cerny, W., Pace, A.~B., et al.\\ 2020, \\apj, 890, 136. doi:10.3847/1538-4357/ab6c67\n",
    "\\bibitem[Mau et al.(2020)]{2020AAS...23516831M} Mau, S., Drlica-Wagner, A., Bechtol, K., et al.\\ 2020, \\aas\n",
    "\\bibitem[Mart{\\'\\i}nez-V{\\'a}zquez et al.(2019)]{2019MNRAS.490.2183M} Mart{\\'\\i}nez-V{\\'a}zquez, C.~E., Vivas, A.~K., Gurevich, M., et al.\\ 2019, \\mnras, 490, 2183. doi:10.1093/mnras/stz2609\n",
    "\\bibitem[Stringer et al.(2019)]{2019yCat..51580016S} Stringer, K.~M., Long, J.~P., Macri, L.~M., et al.\\ 2019, VizieR Online Data Catalog, J/AJ/158/16\n",
    "\\bibitem[Stringer et al.(2019)]{2019AJ....158...16S} Stringer, K.~M., Long, J.~P., Macri, L.~M., et al.\\ 2019, \\aj, 158, 16. doi:10.3847/1538-3881/ab1f46\n",
    "\\bibitem[Nadler et al.(2019)]{2019ApJ...878L..32N} Nadler, E.~O., Gluscevic, V., Boddy, K.~K., et al.\\ 2019, \\apjl, 878, L32. doi:10.3847/2041-8213/ab1eb2\n",
    "\\bibitem[Simon et al.(2019)]{2019BAAS...51c.409S} Simon, J., Bechtol, K., Drlica-Wagner, A., et al.\\ 2019, \\baas, 51, 409\n",
    "\\bibitem[Bechtol et al.(2019)]{2019BAAS...51c.207B} Bechtol, K., Drlica-Wagner, A., Abazajian, K.~N., et al.\\ 2019, \\baas, 51, 207\n",
    "\\bibitem[Gluscevic et al.(2019)]{2019BAAS...51c.134G} Gluscevic, V., Ali-Haimoud, Y., Bechtol, K., et al.\\ 2019, \\baas, 51, 134\n",
    "\\bibitem[Nadler et al.(2019)]{2019ApJ...873...34N} Nadler, E.~O., Mao, Y.-Y., Green, G.~M., et al.\\ 2019, \\apj, 873, 34. doi:10.3847/1538-4357/ab040e\n",
    "\\bibitem[Drlica-Wagner et al.(2019)]{2019arXiv190201055D} Drlica-Wagner, A., Mao, Y.-Y., Adhikari, S., et al.\\ 2019, arXiv:1902.01055\n",
    "\\bibitem[Nadler et al.(2018)]{2018ApJ...859..129N} Nadler, E.~O., Mao, Y.-Y., Wechsler, R.~H., et al.\\ 2018, \\apj, 859, 129. doi:10.3847/1538-4357/aac266\n",
    "\\bibitem[Nadler et al.(2018)]{2018JCAP...02..058N} Nadler, E.~O., Perko, A., \\& Senatore, L.\\ 2018, \\jcap, 2018, 058. doi:10.1088/1475-7516/2018/02/058\n",
    "\"\"\""
   ]
  },
  {
   "cell_type": "code",
   "execution_count": 21,
   "metadata": {},
   "outputs": [
    {
     "data": {
      "text/plain": [
       "418"
      ]
     },
     "execution_count": 21,
     "metadata": {},
     "output_type": "execute_result"
    }
   ],
   "source": [
    "import re\n",
    "bibcodes = re.findall('\\{(2\\S+)\\}', s)\n",
    "\n",
    "papers = [list(ads.SearchQuery(bibcode=bibcode))[0] for bibcode in bibcodes]\n",
    "\n",
    "all_authors = list(set([a for p in papers for a in p.author]))\n",
    "all_authors.sort()\n",
    "\n",
    "len(all_authors)"
   ]
  },
  {
   "cell_type": "code",
   "execution_count": 22,
   "metadata": {},
   "outputs": [
    {
     "data": {
      "text/plain": [
       "418"
      ]
     },
     "execution_count": 22,
     "metadata": {},
     "output_type": "execute_result"
    }
   ],
   "source": [
    "from nameparser import HumanName\n",
    "all_names = [HumanName(a) for a in all_authors] \n",
    "len(all_names)"
   ]
  },
  {
   "cell_type": "code",
   "execution_count": 23,
   "metadata": {},
   "outputs": [],
   "source": [
    "def choose_best(names):\n",
    "    lengths = [len(n.original) for n in names]\n",
    "    longest = 0\n",
    "    best = None\n",
    "    for n, l in zip(names, lengths):\n",
    "        if l > longest:\n",
    "            best = n\n",
    "    print(f'out of {[name.original for name in names]}, choose {n.original}')\n",
    "    return n\n",
    "\n",
    "def almost_equal(name1, name2):\n",
    "    return name1.last.lower() == name2.last.lower() and name1.first[0].lower() == name2.first[0].lower()"
   ]
  },
  {
   "cell_type": "code",
   "execution_count": 24,
   "metadata": {},
   "outputs": [
    {
     "name": "stdout",
     "output_type": "stream",
     "text": [
      "James Annis, J. Annis being compared\n",
      "Keith Bechtol, K. Bechtol being compared\n",
      "Kimberly K. Boddy, K. Boddy being compared\n",
      "Elizabeth Buckley-Geer, E. Buckley-Geer being compared\n",
      "D. L. Burke, D. Burke being compared\n",
      "Scott Dodelson, S. Dodelson being compared\n",
      "Alex Drlica-Wagner, A. Drlica-Wagner being compared\n",
      "Denis Erkal, D. Erkal being compared\n",
      "J. H. Esteves, J. Esteves being compared\n",
      "Arya Farahi, A. Farahi being compared\n",
      "P. S. Ferguson, P. Ferguson being compared\n",
      "Brenna Flaugher, B. Flaugher being compared\n",
      "Joshua Frieman, J. Frieman being compared\n",
      "Juan García-Bellido, J. García-Bellido being compared\n",
      "Vera Gluscevic, V. Gluscevic being compared\n",
      "Gregory M. Green, G. Green being compared\n",
      "Daniel Gruen, D. Gruen being compared\n",
      "Bhuvnesh Jain, B. Jain being compared\n",
      "Ofer Lahav, O. Lahav being compared\n",
      "Casey Y. Lam, Casey Lam being compared\n",
      "Ting S. Li, T. S. Li being compared\n",
      "Karime Maamari, K. Maamari being compared\n",
      "L. M. Macri, L. Macri being compared\n",
      "Yao-Yuan Mao, Y. -Y. Mao being compared\n",
      "Mitch McNanna, M. McNanna being compared\n",
      "E. O. Nadler, E. Nadler being compared\n",
      "Ethan O. Nadler, E. O. Nadler being compared\n",
      "out of ['Nadler, E. O.', 'Nadler, Ethan O.'], choose Nadler, Ethan O.\n",
      "E. H. Neilsen, E. Neilsen being compared\n",
      "Andrew B. Pace, A. B. Pace being compared\n",
      "Antonella Palmese, A. Palmese being compared\n",
      "A. H. G. Peter, A. Peter being compared\n",
      "Annika Peter, A. H. G. Peter being compared\n",
      "Annika H. G. Peter, Annika Peter being compared\n",
      "out of ['Peter, A. H. G.', 'Peter, Annika', 'Peter, Annika H. G.'], choose Peter, Annika H. G.\n",
      "Andrés Plazas, A. A. Plazas being compared\n",
      "E. S. Rykoff, E. Rykoff being compared\n",
      "Nora Shipp, N. Shipp being compared\n",
      "Joshua Simon, J. D. Simon being compared\n",
      "Joshua D. Simon, Joshua Simon being compared\n",
      "out of ['Simon, Joshua', 'Simon, Joshua D.'], choose Simon, Joshua D.\n",
      "Louis E. Strigari, L. Strigari being compared\n",
      "Javier Sánchez, J. Sánchez being compared\n",
      "Erik Tollerud, E. J. Tollerud being compared\n",
      "Erik J. Tollerud, Erik Tollerud being compared\n",
      "out of ['Tollerud, Erik', 'Tollerud, Erik J.'], choose Tollerud, Erik J.\n",
      "D. L. Tucker, D. Tucker being compared\n",
      "Mei-Yu Wang, M. Y. Wang being compared\n",
      "R. H. Wechsler, R. Wechsler being compared\n",
      "Risa Wechsler, R. H. Wechsler being compared\n",
      "Risa H. Wechsler, Risa Wechsler being compared\n",
      "out of ['Wechsler, R. H.', 'Wechsler, Risa', 'Wechsler, Risa H.'], choose Wechsler, Risa H.\n",
      "Brian Yanny, B. Yanny being compared\n"
     ]
    }
   ],
   "source": [
    "no_dups = []\n",
    "previous = HumanName('Hello Dotty')\n",
    "to_compare = []\n",
    "for name in all_names:\n",
    "    if almost_equal(name, previous):\n",
    "        print(f'{name}, {previous} being compared')\n",
    "        to_compare.append(name)\n",
    "    else:\n",
    "        if len(to_compare) > 1:\n",
    "            no_dups.append(choose_best(to_compare))\n",
    "            to_compare = []\n",
    "        else:\n",
    "            no_dups.append(name)\n",
    "            to_compare = []\n",
    "    previous = name\n"
   ]
  },
  {
   "cell_type": "code",
   "execution_count": 25,
   "metadata": {},
   "outputs": [
    {
     "data": {
      "text/plain": [
       "370"
      ]
     },
     "execution_count": 25,
     "metadata": {},
     "output_type": "execute_result"
    }
   ],
   "source": [
    "len(no_dups)"
   ]
  },
  {
   "cell_type": "code",
   "execution_count": 26,
   "metadata": {},
   "outputs": [],
   "source": [
    "filename = 'coa_nadler.txt'\n",
    "with open(filename, 'w') as fout:\n",
    "    for name in no_dups:\n",
    "        fout.write('{}; '.format(name.original))"
   ]
  },
  {
   "cell_type": "code",
   "execution_count": 6,
   "metadata": {},
   "outputs": [
    {
     "data": {
      "text/plain": [
       "21"
      ]
     },
     "execution_count": 6,
     "metadata": {},
     "output_type": "execute_result"
    }
   ],
   "source": [
    "top_authors = list(set([a for p in papers for a in p.author if len(p.author) < 8 ]))\n",
    "len(top_authors)"
   ]
  },
  {
   "cell_type": "code",
   "execution_count": 7,
   "metadata": {},
   "outputs": [],
   "source": [
    "filename = 'coa_vg_top.csv'\n",
    "# filename = 'coa_tdm_top.csv'\n",
    "with open(filename, 'w') as fout:\n",
    "    for auth in top_authors:\n",
    "        fout.write('{}'.format(auth))"
   ]
  },
  {
   "cell_type": "code",
   "execution_count": 8,
   "metadata": {},
   "outputs": [
    {
     "name": "stdout",
     "output_type": "stream",
     "text": [
      "Barkana, Rennan\n",
      "Boddy, Kimberly K.\n",
      "Fang, Xiao\n",
      "Gluscevic, Vera\n",
      "Gresham, Moira I.\n",
      "Hirata, Christopher\n",
      "Hirata, Christopher M.\n",
      "Kamionkowski, Marc\n",
      "Kovetz, Ely D.\n",
      "Li, Zack\n",
      "Madhavacheril, Mathew S.\n",
      "McDermott, Samuel D.\n",
      "Mishra, Abhilash\n",
      "Nadler, Ethan O.\n",
      "Oklopčić, Antonija\n",
      "Peter, Annika H. G.\n",
      "Poulin, Vivian\n",
      "Venumadhav, Tejaswi\n",
      "Wechsler, Risa H.\n",
      "Witte, Samuel J.\n",
      "Zurek, Kathryn M.\n"
     ]
    }
   ],
   "source": [
    "top_authors.sort()\n",
    "for a in top_authors:\n",
    "    print(a)"
   ]
  },
  {
   "cell_type": "code",
   "execution_count": null,
   "metadata": {},
   "outputs": [],
   "source": []
  },
  {
   "cell_type": "code",
   "execution_count": null,
   "metadata": {},
   "outputs": [],
   "source": []
  },
  {
   "cell_type": "code",
   "execution_count": null,
   "metadata": {},
   "outputs": [],
   "source": []
  },
  {
   "cell_type": "code",
   "execution_count": null,
   "metadata": {},
   "outputs": [],
   "source": []
  },
  {
   "cell_type": "code",
   "execution_count": null,
   "metadata": {},
   "outputs": [],
   "source": []
  },
  {
   "cell_type": "code",
   "execution_count": null,
   "metadata": {},
   "outputs": [],
   "source": []
  },
  {
   "cell_type": "code",
   "execution_count": 51,
   "metadata": {},
   "outputs": [],
   "source": [
    "authors = \"\"\"\n",
    "Steve Ritz (UC, Santa Cruz) , Hiroaki Aihara (Tokyo U.), Martin Breidenbach (SLAC), Bob Cousins (UCLA), Andre de Gouvea (Northwestern U.), Marcel Demarteau (Argonne), Scott Dodelson (Fermilab & Chicago U.), Jonathan L. Feng (UC, Irvine), Bonnie Fleming (Yale U.), Fabiola Gianotti (CERN), Francis Halzen (Wisconsin U., Madison), JoAnne Hewett (SLAC), Wim Leemans (LBL, Berkeley), Joe Lykken (Fermilab), Dan McKinsey (Yale U.), Lia Merminga (TRIUMF), Toshinori Mori (Tokyo U.), Tatsuya Nakada (Ecole Polytechnique, Lausanne), Steve Peggs (Brookhaven), Saul Perlmutter (UC, Berkeley), Kevin Pitts (Illinois U., Urbana (main)), Kate Scholberg (Duke U.), Rick van Kooten (Indiana U.), Mark Wise (Caltech)\n",
    "\"\"\""
   ]
  },
  {
   "cell_type": "code",
   "execution_count": 60,
   "metadata": {},
   "outputs": [
    {
     "data": {
      "text/plain": [
       "['Steve Ritz (UC, Santa Cruz) , Hiroaki Aihara (Tokyo U.), Martin Breidenbach (SLAC), Bob Cousins (UCLA), Andre de Gouvea (Northwestern U.), Marcel Demarteau (Argonne), Scott Dodelson (Fermilab & Chicago U.), Jonathan L. Feng (UC, Irvine), Bonnie Fleming (Yale U.), Fabiola Gianotti (CERN), Francis Halzen (Wisconsin U., Madison), JoAnne Hewett (SLAC), Wim Leemans (LBL, Berkeley), Joe Lykken (Fermilab), Dan McKinsey (Yale U.), Lia Merminga (TRIUMF), Toshinori Mori (Tokyo U.), Tatsuya Nakada (Ecole Polytechnique, Lausanne), Steve Peggs (Brookhaven), Saul Perlmutter (UC, Berkeley), Kevin Pitts (Illinois U., Urbana (main)), Kate Scholberg (Duke U.), Rick van Kooten (Indiana U.),']"
      ]
     },
     "execution_count": 60,
     "metadata": {},
     "output_type": "execute_result"
    }
   ],
   "source": [
    "re.findall('\\(\\),', authors)"
   ]
  },
  {
   "cell_type": "code",
   "execution_count": 61,
   "metadata": {},
   "outputs": [
    {
     "data": {
      "text/plain": [
       "\u001b[0;31mSignature:\u001b[0m \u001b[0mre\u001b[0m\u001b[0;34m.\u001b[0m\u001b[0mfindall\u001b[0m\u001b[0;34m(\u001b[0m\u001b[0mpattern\u001b[0m\u001b[0;34m,\u001b[0m \u001b[0mstring\u001b[0m\u001b[0;34m,\u001b[0m \u001b[0mflags\u001b[0m\u001b[0;34m=\u001b[0m\u001b[0;36m0\u001b[0m\u001b[0;34m)\u001b[0m\u001b[0;34m\u001b[0m\u001b[0;34m\u001b[0m\u001b[0m\n",
       "\u001b[0;31mDocstring:\u001b[0m\n",
       "Return a list of all non-overlapping matches in the string.\n",
       "\n",
       "If one or more capturing groups are present in the pattern, return\n",
       "a list of groups; this will be a list of tuples if the pattern\n",
       "has more than one group.\n",
       "\n",
       "Empty matches are included in the result.\n",
       "\u001b[0;31mFile:\u001b[0m      ~/miniconda3/lib/python3.6/re.py\n",
       "\u001b[0;31mType:\u001b[0m      function\n"
      ]
     },
     "metadata": {},
     "output_type": "display_data"
    }
   ],
   "source": [
    "re.findall?"
   ]
  },
  {
   "cell_type": "code",
   "execution_count": null,
   "metadata": {},
   "outputs": [],
   "source": []
  }
 ],
 "metadata": {
  "kernelspec": {
   "display_name": "Python 3",
   "language": "python",
   "name": "python3"
  },
  "language_info": {
   "codemirror_mode": {
    "name": "ipython",
    "version": 3
   },
   "file_extension": ".py",
   "mimetype": "text/x-python",
   "name": "python",
   "nbconvert_exporter": "python",
   "pygments_lexer": "ipython3",
   "version": "3.6.9"
  }
 },
 "nbformat": 4,
 "nbformat_minor": 4
}
